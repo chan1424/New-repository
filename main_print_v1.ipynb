{
 "cells": [
  {
   "cell_type": "code",
   "execution_count": 4,
   "id": "b5cb22f9",
   "metadata": {},
   "outputs": [],
   "source": [
    "name = \"Alice\"\n",
    "age = 25\n",
    "score = 95.5"
   ]
  },
  {
   "cell_type": "code",
   "execution_count": null,
   "id": "43e9cf04",
   "metadata": {},
   "outputs": [
    {
     "name": "stdout",
     "output_type": "stream",
     "text": [
      "두번째ㅔ\n"
     ]
    }
   ],
   "source": [
    "# 2. 기본 출력\n",
    "print(\"Hello, Python!\")"
   ]
  },
  {
   "cell_type": "code",
   "execution_count": null,
   "id": "4fe631fa",
   "metadata": {},
   "outputs": [],
   "source": [
    "# 3. 여러 값 출력(콤마로 구분 -> 자동 띄어쓰기)\n",
    "print(\"Name:\", name, \"Age:\", age, \"Score:\", score)\n"
   ]
  },
  {
   "cell_type": "markdown",
   "id": "b8530d7f",
   "metadata": {},
   "source": [
    "여기는 코드를 설명하는 구간입니다."
   ]
  }
 ],
 "metadata": {
  "kernelspec": {
   "display_name": ".venv",
   "language": "python",
   "name": "python3"
  },
  "language_info": {
   "codemirror_mode": {
    "name": "ipython",
    "version": 3
   },
   "file_extension": ".py",
   "mimetype": "text/x-python",
   "name": "python",
   "nbconvert_exporter": "python",
   "pygments_lexer": "ipython3",
   "version": "3.9.13"
  }
 },
 "nbformat": 4,
 "nbformat_minor": 5
}
